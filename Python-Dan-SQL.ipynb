{
 "cells": [
  {
   "cell_type": "markdown",
   "id": "ca0a255b",
   "metadata": {},
   "source": [
    "NAMA : REZA PUTRI ANGGA\n",
    "NPM : 22083010006\n",
    "MATA KULIAH : DATA WRANGLING (D)"
   ]
  },
  {
   "cell_type": "markdown",
   "id": "884ada9a",
   "metadata": {},
   "source": [
    "# PYTHON DAN SQL"
   ]
  },
  {
   "cell_type": "markdown",
   "id": "4b92e302",
   "metadata": {},
   "source": [
    "1. Buat Database Yang Telah Di Tentukan Menggunakan Perintah Pada Python"
   ]
  },
  {
   "cell_type": "code",
   "execution_count": 1,
   "id": "d2d2632e",
   "metadata": {},
   "outputs": [
    {
     "name": "stdout",
     "output_type": "stream",
     "text": [
      "Database dengan nama tour_agency.db berhasil di buat\n"
     ]
    }
   ],
   "source": [
    "import sqlite3\n",
    "\n",
    "con = sqlite3.connect(\"tour_agency.db\", timeout = 10)\n",
    "print(\"Database dengan nama tour_agency.db berhasil di buat\")\n",
    "\n",
    "con.close()"
   ]
  },
  {
   "cell_type": "markdown",
   "id": "c7830bb0",
   "metadata": {},
   "source": [
    "2. Buat Minimal 2 Tabel Dan Tambahkan Data Menggunakan Perintah Pada Python"
   ]
  },
  {
   "cell_type": "markdown",
   "id": "c881ca63",
   "metadata": {},
   "source": [
    "2.A.1 Tabel Pertama (TourPackage)"
   ]
  },
  {
   "cell_type": "code",
   "execution_count": 2,
   "id": "9b7de172",
   "metadata": {},
   "outputs": [
    {
     "name": "stdout",
     "output_type": "stream",
     "text": [
      "Tabel TourPackage berhasil di buat\n"
     ]
    }
   ],
   "source": [
    "import sqlite3\n",
    "\n",
    "con = sqlite3.connect(\"tour_agency.db\", timeout = 10)\n",
    "cur = con.cursor()\n",
    "\n",
    "for row in cur.execute(\"CREATE TABLE TourPackage (PackageID int, GuideID int, CustomerID int, PackageName varchar(20), \\\n",
    "                        PackageDuration int, PackageType varchar(20))\"):\n",
    "    print(row)\n",
    "con.commit()\n",
    "\n",
    "print(\"Tabel TourPackage berhasil di buat\")\n",
    "\n",
    "con.close()"
   ]
  },
  {
   "cell_type": "markdown",
   "id": "b384dace",
   "metadata": {},
   "source": [
    "2.A.2 Menambahkan Data Pada Tabel TourPackage "
   ]
  },
  {
   "cell_type": "code",
   "execution_count": 3,
   "id": "ea76db36",
   "metadata": {},
   "outputs": [
    {
     "name": "stdout",
     "output_type": "stream",
     "text": [
      "2 data pada tabel TourPackage berhasil di tambahkan\n"
     ]
    }
   ],
   "source": [
    "import sqlite3\n",
    "\n",
    "con = sqlite3.connect(\"tour_agency.db\", timeout = 10)\n",
    "cur = con.cursor()\n",
    "\n",
    "for row in cur.execute(\"INSERT INTO TourPackage VALUES (1, 1, 1, 'Tour Indp', 2, 'Short Trip')\"):\n",
    "    print(row)\n",
    "for row in cur.execute(\"INSERT INTO TourPackage VALUES (2, 2, 2, 'Tour Group', 5, 'Long Trip')\"):\n",
    "    print(row)\n",
    "con.commit()\n",
    "\n",
    "print(\"2 data pada tabel TourPackage berhasil di tambahkan\")\n",
    "\n",
    "con.close()"
   ]
  },
  {
   "cell_type": "markdown",
   "id": "9fcfe678",
   "metadata": {},
   "source": [
    "2.A.3 Menampilkan Data Pada Tabel TourPackage"
   ]
  },
  {
   "cell_type": "code",
   "execution_count": 4,
   "id": "e3957f84",
   "metadata": {},
   "outputs": [
    {
     "name": "stdout",
     "output_type": "stream",
     "text": [
      "Di tampilkan 2 data pada tabel TourPackage : \n",
      "(1, 1, 1, 'Tour Indp', 2, 'Short Trip')\n",
      "(2, 2, 2, 'Tour Group', 5, 'Long Trip')\n"
     ]
    }
   ],
   "source": [
    "import sqlite3\n",
    "\n",
    "print(\"Di tampilkan 2 data pada tabel TourPackage : \")\n",
    "\n",
    "con = sqlite3.connect(\"tour_agency.db\", timeout = 10)\n",
    "cur = con.cursor()\n",
    "\n",
    "for row in cur.execute(\"SELECT * FROM TourPackage\"):\n",
    "    print(row)\n",
    "con.commit()\n",
    "\n",
    "con.close()"
   ]
  },
  {
   "cell_type": "markdown",
   "id": "ae0507ab",
   "metadata": {},
   "source": [
    "2.B.1 Tabel Kedua (TourGuide)"
   ]
  },
  {
   "cell_type": "code",
   "execution_count": 5,
   "id": "912a7fcd",
   "metadata": {},
   "outputs": [
    {
     "name": "stdout",
     "output_type": "stream",
     "text": [
      "Tabel TourGuide berhasil di buat\n"
     ]
    }
   ],
   "source": [
    "import sqlite3\n",
    "\n",
    "con = sqlite3.connect(\"tour_agency.db\", timeout = 10)\n",
    "cur = con.cursor()\n",
    "\n",
    "for row in cur.execute(\"CREATE TABLE TourGuide (GuideID int, GuideName varchar(20), GuidePhoneNumber int, \\\n",
    "                        GuideYearsService int)\"):\n",
    "    print(row)\n",
    "con.commit()\n",
    "\n",
    "print(\"Tabel TourGuide berhasil di buat\")\n",
    "\n",
    "con.close()"
   ]
  },
  {
   "cell_type": "markdown",
   "id": "8e2daea0",
   "metadata": {},
   "source": [
    "2.B.2 Menambahkan Data Pada Tabel TourGuide"
   ]
  },
  {
   "cell_type": "code",
   "execution_count": 6,
   "id": "9a29e79a",
   "metadata": {},
   "outputs": [
    {
     "name": "stdout",
     "output_type": "stream",
     "text": [
      "3 data pada tabel TourGuide berhasil di tambahkan\n"
     ]
    }
   ],
   "source": [
    "import sqlite3\n",
    "\n",
    "con = sqlite3.connect(\"tour_agency.db\", timeout = 10)\n",
    "cur = con.cursor()\n",
    "\n",
    "for row in cur.execute(\"INSERT INTO TourGuide VALUES (1, 'Arinto Ly', 6281335678991, 3)\"):\n",
    "    print(row)\n",
    "for row in cur.execute(\"INSERT INTO TourGuide VALUES (2, 'Nadhela Jasmine', 6289221456151, 5)\"):\n",
    "    print(row)\n",
    "for row in cur.execute(\"INSERT INTO TourGuide VALUES (3, 'Apriola Lyla', 6289112345671, 2)\"):\n",
    "    print(row)\n",
    "con.commit()\n",
    "\n",
    "print(\"3 data pada tabel TourGuide berhasil di tambahkan\")\n",
    "\n",
    "con.close()"
   ]
  },
  {
   "cell_type": "markdown",
   "id": "c55156fb",
   "metadata": {},
   "source": [
    "2.B.3 Menampilkan Data Pada Tabel TourGuide"
   ]
  },
  {
   "cell_type": "code",
   "execution_count": 7,
   "id": "59007d8d",
   "metadata": {},
   "outputs": [
    {
     "name": "stdout",
     "output_type": "stream",
     "text": [
      "Di tampilkan 3 data pada tabel TourGuide : \n",
      "(1, 'Arinto Ly', 6281335678991, 3)\n",
      "(2, 'Nadhela Jasmine', 6289221456151, 5)\n",
      "(3, 'Apriola Lyla', 6289112345671, 2)\n"
     ]
    }
   ],
   "source": [
    "import sqlite3\n",
    "\n",
    "print(\"Di tampilkan 3 data pada tabel TourGuide : \")\n",
    "\n",
    "con = sqlite3.connect(\"tour_agency.db\", timeout = 10)\n",
    "cur = con.cursor()\n",
    "\n",
    "for row in cur.execute(\"SELECT * FROM TourGuide\"):\n",
    "    print(row)\n",
    "con.commit()\n",
    "\n",
    "con.close()"
   ]
  },
  {
   "cell_type": "markdown",
   "id": "cb85cc91",
   "metadata": {},
   "source": [
    "2.C.1 Tabel Ketiga (TourCustomer)"
   ]
  },
  {
   "cell_type": "code",
   "execution_count": 10,
   "id": "1b05e5b8",
   "metadata": {},
   "outputs": [
    {
     "name": "stdout",
     "output_type": "stream",
     "text": [
      "Tabel TourCustomer berhasil di buat\n"
     ]
    }
   ],
   "source": [
    "import sqlite3\n",
    "\n",
    "con = sqlite3.connect(\"tour_agency.db\", timeout = 10)\n",
    "cur = con.cursor()\n",
    "\n",
    "for row in cur.execute(\"CREATE TABLE TourCustomer (CustomerID int, CustomerName varchar(20), CustomerPhoneNumber int, \\\n",
    "                        CustomerPayment varchar(20))\"):\n",
    "    print(row)\n",
    "con.commit()\n",
    "\n",
    "print(\"Tabel TourCustomer berhasil di buat\")\n",
    "\n",
    "con.close()"
   ]
  },
  {
   "cell_type": "markdown",
   "id": "3b126548",
   "metadata": {},
   "source": [
    "2.C.2 Menambahkan Data Pada Tabel TourCustomers"
   ]
  },
  {
   "cell_type": "code",
   "execution_count": 11,
   "id": "b81eb643",
   "metadata": {},
   "outputs": [
    {
     "name": "stdout",
     "output_type": "stream",
     "text": [
      "4 data pada tabel TourCustomer berhasil di tambahkan\n"
     ]
    }
   ],
   "source": [
    "import sqlite3\n",
    "\n",
    "con = sqlite3.connect(\"tour_agency.db\", timeout = 10)\n",
    "cur = con.cursor()\n",
    "\n",
    "for row in cur.execute(\"INSERT INTO TourCustomer VALUES (1, 'Andieni Afa', 6281445728291, 'Cashless')\"):\n",
    "    print(row)\n",
    "for row in cur.execute(\"INSERT INTO TourCustomer VALUES (2, 'Rafael Ziva', 6281992818182, 'Cash')\"):\n",
    "    print(row)\n",
    "for row in cur.execute(\"INSERT INTO TourCustomer VALUES (3, 'Nyndra Lyla', 6281998241618, 'Cash')\"):\n",
    "    print(row)\n",
    "for row in cur.execute(\"INSERT INTO TourCustomer VALUES (4, 'Nadya Wulan', 628898919181, 'Cash')\"):\n",
    "    print(row)\n",
    "con.commit()\n",
    "\n",
    "print(\"4 data pada tabel TourCustomer berhasil di tambahkan\")\n",
    "\n",
    "con.close()"
   ]
  },
  {
   "cell_type": "markdown",
   "id": "61518f4f",
   "metadata": {},
   "source": [
    "2.C.3 Menampilkan Data Pada Tabel TourCustomer"
   ]
  },
  {
   "cell_type": "code",
   "execution_count": 13,
   "id": "03dff732",
   "metadata": {},
   "outputs": [
    {
     "name": "stdout",
     "output_type": "stream",
     "text": [
      "Di tampilkan 4 data pada tabel TourCustomer : \n",
      "(1, 'Andieni Afa', 6281445728291, 'Cashless')\n",
      "(2, 'Rafael Ziva', 6281992818182, 'Cash')\n",
      "(3, 'Nyndra Lyla', 6281998241618, 'Cash')\n",
      "(4, 'Nadya Wulan', 628898919181, 'Cash')\n"
     ]
    }
   ],
   "source": [
    "import sqlite3\n",
    "\n",
    "print(\"Di tampilkan 4 data pada tabel TourCustomer : \")\n",
    "\n",
    "con = sqlite3.connect(\"tour_agency.db\", timeout = 10)\n",
    "cur = con.cursor()\n",
    "\n",
    "for row in cur.execute(\"SELECT * FROM TourCustomer\"):\n",
    "    print(row)\n",
    "con.commit()\n",
    "\n",
    "con.close()"
   ]
  },
  {
   "cell_type": "markdown",
   "id": "b5c313a3",
   "metadata": {},
   "source": [
    "3. Lakukan Pemutakhiran Data Pada Tabel Yang Telah Di Buat Menggunakan Perintah Pada Python"
   ]
  },
  {
   "cell_type": "markdown",
   "id": "548cdcfe",
   "metadata": {},
   "source": [
    "3.A Membuat Kolom Baru Pada Tabel TourPackage Untuk Pemutakhiran Data"
   ]
  },
  {
   "cell_type": "code",
   "execution_count": 15,
   "id": "04bd740c",
   "metadata": {},
   "outputs": [
    {
     "name": "stdout",
     "output_type": "stream",
     "text": [
      "Kolom PackageDestination dan PackagePrice pada tabel TourPackage berhasil di buat\n"
     ]
    }
   ],
   "source": [
    "import sqlite3\n",
    "\n",
    "con = sqlite3.connect(\"tour_agency.db\", timeout = 10)\n",
    "cur = con.cursor()\n",
    "\n",
    "for row in cur.execute(\"ALTER TABLE TourPackage ADD COLUMN PackageDestination varchar(50)\"):\n",
    "    print(row)\n",
    "for row in cur.execute(\"ALTER TABLE TourPackage ADD COLUMN PackagePrice int\"):\n",
    "    print(row)\n",
    "con.commit()\n",
    "\n",
    "print(\"Kolom PackageDestination dan PackagePrice pada tabel TourPackage berhasil di buat\")\n",
    "\n",
    "con.close()"
   ]
  },
  {
   "cell_type": "markdown",
   "id": "6cd39109",
   "metadata": {},
   "source": [
    "3.B Melakukan Pemutakhiran Data (Update) Dengan Menambahkan Values Pada Kolom Yang Baru"
   ]
  },
  {
   "cell_type": "code",
   "execution_count": 18,
   "id": "78294fcf",
   "metadata": {},
   "outputs": [
    {
     "name": "stdout",
     "output_type": "stream",
     "text": [
      "Pemutakhiran Data (Update) dengan penambahan values pada kolom baru berhasil di tambhkan\n"
     ]
    }
   ],
   "source": [
    "import sqlite3\n",
    "\n",
    "con = sqlite3.connect(\"tour_agency.db\", timeout = 10)\n",
    "cur = con.cursor()\n",
    "\n",
    "for row in cur.execute(\"UPDATE TourPackage SET PackageDestination = 'Pantai Ngliyep, Obelix Hills, Bukit Bintang', PackagePrice = 350000 WHERE PackageName = 'Tour Indp'\"):\n",
    "    print(row)\n",
    "for row in cur.execute(\"UPDATE TourPackage SET PackageDestination = 'Pantai Sluban, Wake Park, Nusa Peninda', PackagePrice = 550000 WHERE PackageName = 'Tour Group'\"):\n",
    "    print(row)\n",
    "con.commit()\n",
    "\n",
    "print(\"Pemutakhiran Data (Update) dengan penambahan values pada kolom baru berhasil di tambhkan\")\n",
    "\n",
    "con.close()"
   ]
  },
  {
   "cell_type": "markdown",
   "id": "4e01419a",
   "metadata": {},
   "source": [
    "3.C Menampilkan Data Dari Hasil Pemutakhiran Data"
   ]
  },
  {
   "cell_type": "code",
   "execution_count": 19,
   "id": "8fbb306b",
   "metadata": {},
   "outputs": [
    {
     "name": "stdout",
     "output_type": "stream",
     "text": [
      "Di tampilkan data dari hasil pemutakhiran data : \n",
      "(1, 1, 1, 'Tour Indp', 2, 'Short Trip', 'Pantai Ngliyep, Obelix Hills, Bukit Bintang', 350000)\n",
      "(2, 2, 2, 'Tour Group', 5, 'Long Trip', 'Pantai Sluban, Wake Park, Nusa Peninda', 550000)\n"
     ]
    }
   ],
   "source": [
    "import sqlite3\n",
    "\n",
    "print(\"Di tampilkan data dari hasil pemutakhiran data : \")\n",
    "\n",
    "con = sqlite3.connect(\"tour_agency.db\", timeout = 10)\n",
    "cur = con.cursor()\n",
    "\n",
    "for row in cur.execute(\"SELECT * FROM TourPackage\"):\n",
    "    print(row)\n",
    "con.commit()\n",
    "\n",
    "con.close()"
   ]
  },
  {
   "cell_type": "markdown",
   "id": "0da1aeb7",
   "metadata": {},
   "source": [
    "4. Lakukan Pengelompokkan Data Pada Tabel Yang Telah Di Buat Menggunakan Perintah Pada Python"
   ]
  },
  {
   "cell_type": "markdown",
   "id": "329b9668",
   "metadata": {},
   "source": [
    "4.A Menambahkan 2 Data Pada Tabel TourPackage"
   ]
  },
  {
   "cell_type": "code",
   "execution_count": 21,
   "id": "1cf2a9cf",
   "metadata": {},
   "outputs": [
    {
     "name": "stdout",
     "output_type": "stream",
     "text": [
      "2 data pada tabel TourPackage berhasil di tambahkan\n"
     ]
    }
   ],
   "source": [
    "import sqlite3\n",
    "\n",
    "con = sqlite3.connect(\"tour_agency.db\", timeout = 10)\n",
    "cur = con.cursor()\n",
    "\n",
    "for row in cur.execute(\"INSERT INTO TourPackage VALUES (3, 3, 3, 'Tour Flash', 1, 'Short Trip', 'Malang Night Paraside, Coban Rais', 15000)\"):\n",
    "    print(row)\n",
    "for row in cur.execute(\"INSERT INTO TourPackage VALUES (4, 3, 4, 'Tour Earlier', 3, 'Short Trip', 'Legend Star Park, Museum Musik Dunia', 20000)\"):\n",
    "    print(row)\n",
    "con.commit()\n",
    "\n",
    "print(\"2 data pada tabel TourPackage berhasil di tambahkan\")\n",
    "\n",
    "con.close()"
   ]
  },
  {
   "cell_type": "markdown",
   "id": "652e72c8",
   "metadata": {},
   "source": [
    "4.B. Menampilkan Semua Data Pada Tabel TourPackage"
   ]
  },
  {
   "cell_type": "code",
   "execution_count": 23,
   "id": "8d6745dc",
   "metadata": {},
   "outputs": [
    {
     "name": "stdout",
     "output_type": "stream",
     "text": [
      "Di tampilkan semua data pada tabel TourPackage : \n",
      "(1, 1, 1, 'Tour Indp', 2, 'Short Trip', 'Pantai Ngliyep, Obelix Hills, Bukit Bintang', 350000)\n",
      "(2, 2, 2, 'Tour Group', 5, 'Long Trip', 'Pantai Sluban, Wake Park, Nusa Peninda', 550000)\n",
      "(3, 3, 3, 'Tour Flash', 1, 'Short Trip', 'Malang Night Paraside, Coban Rais', 15000)\n",
      "(4, 3, 4, 'Tour Earlier', 3, 'Short Trip', 'Legend Star Park, Museum Musik Dunia', 20000)\n"
     ]
    }
   ],
   "source": [
    "import sqlite3\n",
    "\n",
    "print(\"Di tampilkan semua data pada tabel TourPackage : \")\n",
    "\n",
    "con = sqlite3.connect(\"tour_agency.db\", timeout = 10)\n",
    "cur = con.cursor()\n",
    "\n",
    "for row in cur.execute(\"SELECT * FROM TourPackage\"):\n",
    "    print(row)\n",
    "con.commit()\n",
    "\n",
    "con.close()"
   ]
  },
  {
   "cell_type": "markdown",
   "id": "7d3627de",
   "metadata": {},
   "source": [
    "4.C Mengelompokkan Data Berdasarkan PackageType"
   ]
  },
  {
   "cell_type": "code",
   "execution_count": 25,
   "id": "e81f08b0",
   "metadata": {},
   "outputs": [
    {
     "name": "stdout",
     "output_type": "stream",
     "text": [
      "Di tampilkan hasil pengelompokkan data berdasarkan PackageType : \n",
      "(1, 'Long Trip')\n",
      "(3, 'Short Trip')\n"
     ]
    }
   ],
   "source": [
    "import sqlite3\n",
    "\n",
    "print(\"Di tampilkan hasil pengelompokkan data berdasarkan PackageType : \")\n",
    "\n",
    "con = sqlite3.connect(\"tour_agency.db\", timeout = 10)\n",
    "cur = con.cursor()\n",
    "\n",
    "for row in cur.execute(\"SELECT COUNT(*), PackageType FROM TourPackage Group BY PackageType\"):\n",
    "    print(row)\n",
    "con.commit()\n",
    "\n",
    "con.close()"
   ]
  },
  {
   "cell_type": "markdown",
   "id": "b0c39c02",
   "metadata": {},
   "source": [
    "5. Lakukan Join Data Pada Tabel Yang Telah Di Buat Menggunakan Perintah Pada Python"
   ]
  },
  {
   "cell_type": "markdown",
   "id": "3954cc82",
   "metadata": {},
   "source": [
    "5.A Menampilkan Data Berdasarkan PackageID Dengan Menerapkan Query Join"
   ]
  },
  {
   "cell_type": "code",
   "execution_count": 32,
   "id": "b1d50346",
   "metadata": {},
   "outputs": [
    {
     "name": "stdout",
     "output_type": "stream",
     "text": [
      "Di tampilkan hasil joining berdasarkan PackageID : \n",
      "(1, 'Tour Indp', 'Short Trip', 'Arinto Ly', 'Andieni Afa')\n",
      "(2, 'Tour Group', 'Long Trip', 'Nadhela Jasmine', 'Rafael Ziva')\n",
      "(3, 'Tour Flash', 'Short Trip', 'Apriola Lyla', 'Nyndra Lyla')\n",
      "(4, 'Tour Earlier', 'Short Trip', 'Apriola Lyla', 'Nadya Wulan')\n"
     ]
    }
   ],
   "source": [
    "import sqlite3\n",
    "\n",
    "print(\"Di tampilkan hasil joining berdasarkan PackageID : \")\n",
    "\n",
    "con = sqlite3.connect(\"tour_agency.db\", timeout=10)\n",
    "cur = con.cursor()\n",
    "\n",
    "for row in cur.execute(\"SELECT pkg.PackageID, pkg.PackageName, pkg.PackageType, g.GuideName, c.CustomerName FROM TourPackage \\\n",
    "                        pkg INNER JOIN TourGuide g ON g.GuideID = pkg.GuideID INNER JOIN TourCustomer c ON c.CustomerID = \\\n",
    "                        pkg.CustomerID WHERE pkg.PackageID\"):\n",
    "    print(row)\n",
    "\n",
    "con.commit()\n",
    "\n",
    "con.close()"
   ]
  },
  {
   "cell_type": "markdown",
   "id": "3112d54f",
   "metadata": {},
   "source": [
    "5.B Menampilkan Data Berdasarkan PackageID Dengan Menerapkan Query Join (Dengan Tambahan Teks)"
   ]
  },
  {
   "cell_type": "code",
   "execution_count": 35,
   "id": "794e8d0a",
   "metadata": {},
   "outputs": [
    {
     "name": "stdout",
     "output_type": "stream",
     "text": [
      "Tour dengan Package ID 1 dengan nama Package Tour Indp dan jenis Package Short Trip di pandu oleh Guide bernama Arinto Ly  dan di ikuti oleh Customer bernama Andieni Afa\n",
      "Tour dengan Package ID 2 dengan nama Package Tour Group dan jenis Package Long Trip di pandu oleh Guide bernama Nadhela Jasmine  dan di ikuti oleh Customer bernama Rafael Ziva\n",
      "Tour dengan Package ID 3 dengan nama Package Tour Flash dan jenis Package Short Trip di pandu oleh Guide bernama Apriola Lyla  dan di ikuti oleh Customer bernama Nyndra Lyla\n",
      "Tour dengan Package ID 4 dengan nama Package Tour Earlier dan jenis Package Short Trip di pandu oleh Guide bernama Apriola Lyla  dan di ikuti oleh Customer bernama Nadya Wulan\n"
     ]
    }
   ],
   "source": [
    "import sqlite3\n",
    "\n",
    "con = sqlite3.connect(\"tour_agency.db\", timeout=10)\n",
    "cur = con.cursor()\n",
    "\n",
    "results = cur.execute(\"SELECT pkg.PackageID, pkg.PackageName, pkg.PackageType, g.GuideName, c.CustomerName FROM TourPackage \\\n",
    "                        pkg INNER JOIN TourGuide g ON g.GuideID = pkg.GuideID INNER JOIN TourCustomer c ON c.CustomerID = \\\n",
    "                        pkg.CustomerID WHERE pkg.PackageID\")\n",
    "\n",
    "for result in results:\n",
    "    PackageID = result[0]\n",
    "    PackageName = result[1]\n",
    "    PackageType = result[2]\n",
    "    GuideName = result[3]\n",
    "    CustomerName = result[4]\n",
    "    print(\"Tour dengan Package ID \" + str(PackageID) + \" dengan nama Package \" + PackageName + \" dan jenis Package \" + \\\n",
    "          PackageType + \" di pandu oleh Guide bernama \" + GuideName + \"  dan di ikuti oleh Customer bernama \" + CustomerName)\n",
    "\n",
    "con.commit()\n",
    "\n",
    "con.close()"
   ]
  }
 ],
 "metadata": {
  "kernelspec": {
   "display_name": "Python 3 (ipykernel)",
   "language": "python",
   "name": "python3"
  },
  "language_info": {
   "codemirror_mode": {
    "name": "ipython",
    "version": 3
   },
   "file_extension": ".py",
   "mimetype": "text/x-python",
   "name": "python",
   "nbconvert_exporter": "python",
   "pygments_lexer": "ipython3",
   "version": "3.9.12"
  }
 },
 "nbformat": 4,
 "nbformat_minor": 5
}
